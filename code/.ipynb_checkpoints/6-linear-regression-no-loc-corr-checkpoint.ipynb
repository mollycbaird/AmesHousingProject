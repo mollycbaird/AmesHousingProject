{
 "cells": [
  {
   "cell_type": "markdown",
   "metadata": {},
   "source": [
    "# Table of Contents\n",
    "\n",
    "### Contents:\n",
    "- [Imports, reading in data](#Initial-Steps)\n",
    "- [Choosing features](#Choosing-features)\n",
    "- [Fitting the model](#Fitting-the-model)\n",
    "- [Scoring and evaluating the model](#Scoring-and-evaluating-the-model)"
   ]
  },
  {
   "cell_type": "markdown",
   "metadata": {},
   "source": [
    "This model is going to take into account everything that is NOT location. "
   ]
  },
  {
   "cell_type": "markdown",
   "metadata": {},
   "source": [
    "# Initial Steps"
   ]
  },
  {
   "cell_type": "code",
   "execution_count": 32,
   "metadata": {},
   "outputs": [],
   "source": [
    "# imports\n",
    "\n",
    "import numpy as np\n",
    "import seaborn as sns\n",
    "import matplotlib.pyplot as plt\n",
    "import pandas as pd\n",
    "from sklearn.linear_model import LinearRegression\n",
    "from sklearn.model_selection import train_test_split, cross_val_score\n",
    "from sklearn.preprocessing import PolynomialFeatures, StandardScaler\n",
    "\n",
    "%matplotlib inline"
   ]
  },
  {
   "cell_type": "code",
   "execution_count": 33,
   "metadata": {},
   "outputs": [],
   "source": [
    "# read in cleaned TRAIN data\n",
    "train = pd.read_csv('../datasets/train_clean_dum.csv')"
   ]
  },
  {
   "cell_type": "code",
   "execution_count": 34,
   "metadata": {},
   "outputs": [
    {
     "data": {
      "text/plain": [
       "(1556, 246)"
      ]
     },
     "execution_count": 34,
     "metadata": {},
     "output_type": "execute_result"
    }
   ],
   "source": [
    "train.shape"
   ]
  },
  {
   "cell_type": "code",
   "execution_count": 35,
   "metadata": {},
   "outputs": [],
   "source": [
    "# I want to play with the training data, I don't actually want to mess with it\n",
    "# rerun this cell to get original data\n",
    "df = train"
   ]
  },
  {
   "cell_type": "code",
   "execution_count": 36,
   "metadata": {},
   "outputs": [],
   "source": [
    "# read in cleaned TEST data\n",
    "test = pd.read_csv('../datasets/test_clean_dum.csv')"
   ]
  },
  {
   "cell_type": "code",
   "execution_count": 37,
   "metadata": {},
   "outputs": [
    {
     "data": {
      "text/plain": [
       "(878, 245)"
      ]
     },
     "execution_count": 37,
     "metadata": {},
     "output_type": "execute_result"
    }
   ],
   "source": [
    "test.shape"
   ]
  },
  {
   "cell_type": "markdown",
   "metadata": {},
   "source": [
    "#### * note that the baseline model is the mean house price, done in april 2 notebook\n"
   ]
  },
  {
   "cell_type": "markdown",
   "metadata": {},
   "source": [
    "# Choosing features"
   ]
  },
  {
   "cell_type": "markdown",
   "metadata": {},
   "source": [
    "#### By inspection, I decided that these were the columns most related to location:\n",
    "\n",
    "- MS Zoning\n",
    "- Neighborhood\n",
    "- Condition 1\n",
    "- Condition 2\n"
   ]
  },
  {
   "cell_type": "code",
   "execution_count": 39,
   "metadata": {},
   "outputs": [],
   "source": [
    "# make a list of location related data, drop it from the data frame\n",
    "features = []\n",
    "for name in train.columns:\n",
    "    if 'ms_zoning' in name:\n",
    "        features.append(name)\n",
    "    elif 'neighborhood' in name:\n",
    "        features.append(name)\n",
    "    elif 'condition' in name:\n",
    "        features.append(name)\n",
    "    elif 'lot_frontage' in name:\n",
    "        features.append(name)\n",
    "    elif 'lot_area' in name:\n",
    "        features.append(name)\n",
    "    elif 'lot_shape' in name:\n",
    "        features.append(name)\n",
    "    elif 'land_contour' in name:\n",
    "        features.append(name)\n",
    "    elif 'lot_config' in name:\n",
    "        features.append(name)\n",
    "    elif 'land_slope' in name:\n",
    "        features.append(name)\n",
    "    elif 'utilities' in name:\n",
    "        features.append(name)"
   ]
  },
  {
   "cell_type": "code",
   "execution_count": 40,
   "metadata": {},
   "outputs": [],
   "source": [
    "features_to_drop = features"
   ]
  },
  {
   "cell_type": "code",
   "execution_count": 41,
   "metadata": {},
   "outputs": [],
   "source": [
    "X = df.drop(columns = features_to_drop)"
   ]
  },
  {
   "cell_type": "code",
   "execution_count": 42,
   "metadata": {},
   "outputs": [],
   "source": [
    "# WHICH COLUMNNS DO I CARE ABOUT\n",
    "# look at CORRELATION  with price\n",
    "\n",
    "# look at all correlations for sale price\n",
    "corr_vector = X.corr()[['saleprice']].sort_values('saleprice')\n",
    "\n",
    "\n",
    "# take just the correlations whose absolute values are greater than 0.2\n",
    "strong_corr_vector = corr_vector[abs(corr_vector['saleprice'])>0.2]\n",
    "\n",
    "# don't want to include sale price in the list of features for input\n",
    "features = strong_corr_vector.drop('saleprice')\n",
    "features = features.index"
   ]
  },
  {
   "cell_type": "code",
   "execution_count": 43,
   "metadata": {},
   "outputs": [],
   "source": [
    "# let X be the numeric columns most strongly correlated to sale price\n",
    "X = X[features]\n",
    "\n",
    "# let y be the sale price, the goal output\n",
    "y = df['saleprice']"
   ]
  },
  {
   "cell_type": "code",
   "execution_count": 52,
   "metadata": {},
   "outputs": [],
   "source": [
    "y = np.log(y)"
   ]
  },
  {
   "cell_type": "code",
   "execution_count": 45,
   "metadata": {},
   "outputs": [],
   "source": [
    "# save a copy of the official TEST dataset that has these same columns\n",
    "features = X.columns\n",
    "test_mod_6 = test[features]\n",
    "test_mod_6.to_csv('../datasets/test_mod_6.csv')"
   ]
  },
  {
   "cell_type": "markdown",
   "metadata": {},
   "source": [
    "# Fitting the model"
   ]
  },
  {
   "cell_type": "code",
   "execution_count": 53,
   "metadata": {},
   "outputs": [],
   "source": [
    "# split our data into train and test data to properly cross validate our model \n",
    "\n",
    "X_train, X_test, y_train, y_test = train_test_split(X,y, random_state = 5)"
   ]
  },
  {
   "cell_type": "code",
   "execution_count": 61,
   "metadata": {},
   "outputs": [
    {
     "data": {
      "text/plain": [
       "exterior_1st_CemntBd   -0.242614\n",
       "kitchen_qual_TA        -0.075834\n",
       "kitchen_qual_Gd        -0.054403\n",
       "heating_qc_TA          -0.036312\n",
       "exterior_2nd_VinylSd   -0.025021\n",
       "bsmt_exposure_No       -0.024115\n",
       "garage_finish_Fin      -0.013801\n",
       "garage_finish_Unf      -0.004634\n",
       "foundation_CBlock      -0.002659\n",
       "garage_yr_blt          -0.000325\n",
       "total_bsmt_sf          -0.000044\n",
       "gr_liv_area            -0.000012\n",
       "bsmtfin_sf_1            0.000016\n",
       "garage_area             0.000039\n",
       "mas_vnr_area            0.000048\n",
       "wood_deck_sf            0.000089\n",
       "2nd_flr_sf              0.000163\n",
       "open_porch_sf           0.000174\n",
       "1st_flr_sf              0.000282\n",
       "year_built              0.000894\n",
       "foundation_PConc        0.001093\n",
       "year_remod/add          0.001506\n",
       "electrical_SBrkr        0.006332\n",
       "totrms_abvgrd           0.012564\n",
       "roof_style_Gable        0.012944\n",
       "half_bath               0.013024\n",
       "exter_qual_TA           0.013352\n",
       "full_bath               0.017869\n",
       "exter_qual_Gd           0.024681\n",
       "bsmt_qual_TA            0.027340\n",
       "exterior_1st_VinylSd    0.028079\n",
       "bsmtfin_type_1_GLQ      0.029620\n",
       "roof_style_Hip          0.035582\n",
       "bsmt_exposure_Gd        0.036846\n",
       "bsmt_full_bath          0.037065\n",
       "sale_type_WD            0.044815\n",
       "fireplaces              0.048562\n",
       "bsmt_qual_Ex            0.052666\n",
       "garage_cars             0.062096\n",
       "sale_type_New           0.069434\n",
       "garage_type_Detchd      0.070762\n",
       "paved_drive_Y           0.073796\n",
       "overall_qual            0.076911\n",
       "mas_vnr_type_BrkFace    0.085262\n",
       "mas_vnr_type_Stone      0.096162\n",
       "mas_vnr_type_None       0.101009\n",
       "garage_type_BuiltIn     0.114788\n",
       "garage_type_Attchd      0.115914\n",
       "central_air_Y           0.140258\n",
       "exterior_2nd_CmentBd    0.256955\n",
       "dtype: float64"
      ]
     },
     "execution_count": 61,
     "metadata": {},
     "output_type": "execute_result"
    }
   ],
   "source": [
    "# instantiate linear regression model and fit it to our data\n",
    "\n",
    "lr = LinearRegression()\n",
    "lr.fit(X_train, y_train)\n",
    "\n",
    "# look at the coefficients and interpret them\n",
    "coefs = pd.Series(lr.coef_, index = features)\n",
    "coefs.sort_values()"
   ]
  },
  {
   "cell_type": "markdown",
   "metadata": {},
   "source": [
    "# Scoring and evaluating the model"
   ]
  },
  {
   "cell_type": "code",
   "execution_count": 55,
   "metadata": {},
   "outputs": [
    {
     "name": "stdout",
     "output_type": "stream",
     "text": [
      "The training score is: 0.872258883377864\n",
      "The testing score is: 0.8127002134270712\n",
      "The cross validation score is: 0.8258529861602515\n"
     ]
    }
   ],
   "source": [
    "# scoring\n",
    "\n",
    "print(f'The training score is: {lr.score(X_train, y_train)}')\n",
    "print(f'The testing score is: {lr.score(X_test, y_test)}')\n",
    "print(f'The cross validation score is: {cross_val_score(lr, X_train, y_train, cv=5).mean()}')\n",
    "\n",
    "# Super overfit, very high variance, low bias"
   ]
  },
  {
   "cell_type": "code",
   "execution_count": 56,
   "metadata": {},
   "outputs": [],
   "source": [
    "# generate the predicted values\n",
    "y_preds = lr.predict(X)"
   ]
  },
  {
   "cell_type": "code",
   "execution_count": 59,
   "metadata": {},
   "outputs": [
    {
     "data": {
      "image/png": "[encoded data removed]",
      "text/plain": [
       "<Figure size 576x576 with 1 Axes>"
      ]
     },
     "metadata": {
      "needs_background": "light"
     },
     "output_type": "display_data"
    }
   ],
   "source": [
    "# Plot the model\n",
    "plt.figure(figsize=(8,8))\n",
    "\n",
    "# Generate a scatterplot of predicted values versus actual values.\n",
    "plt.scatter(y_preds, y, s=5, color='blue', alpha = 0.5)\n",
    "\n",
    "# Plot a line.\n",
    "plt.plot([np.min(y), np.max(y)],\n",
    "         [np.min(y), np.max(y)],\n",
    "         color = 'black')\n",
    "\n",
    "# Tweak title and axis labels.\n",
    "plt.xlabel(\"Predicted Sale Price\", fontsize = 20)\n",
    "plt.ylabel(\"Actual Sale Price\", fontsize = 20)\n",
    "plt.title('Predicted Price vs. Actual Price', fontsize = 24);\n",
    "\n",
    "plt.savefig(\"../visuals/no_location\")\n",
    "\n",
    "# looks like we might want to take the log"
   ]
  },
  {
   "cell_type": "code",
   "execution_count": null,
   "metadata": {},
   "outputs": [],
   "source": [
    "# Plot the model\n",
    "plt.figure(figsize=(8,8))\n",
    "\n",
    "# Generate a scatterplot of predicted values versus actual values.\n",
    "plt.scatter(y_preds, y, s=5, color='blue', alpha = 0.5)\n",
    "\n",
    "# Plot a line.\n",
    "plt.plot([9.5, np.max(y)],\n",
    "         [9.5, np.max(y)],\n",
    "         color = 'black')\n",
    "\n",
    "# Tweak title and axis labels.\n",
    "plt.xlabel(\"Predicted Sale Price\", fontsize = 20)\n",
    "plt.ylabel(\"Actual Sale Price\", fontsize = 20)\n",
    "plt.title('Predicted Price vs. Actual Price', fontsize = 24);\n",
    "\n",
    "plt.savefig(\"../visuals/location\")"
   ]
  },
  {
   "cell_type": "code",
   "execution_count": 26,
   "metadata": {},
   "outputs": [
    {
     "data": {
      "text/plain": [
       "array([163809.58970927, 166478.42238328, 230825.85728046, 112765.51633681,\n",
       "       176149.55816507,  98423.43071957,  96874.07952104, 134269.84532314,\n",
       "       185712.41940363, 158749.62251825, 165246.16529778, 126245.55690292,\n",
       "       165730.50552864, 321316.70361015, 145669.39583537, 145362.38422184,\n",
       "       159275.00165845, 118376.70438982, 200919.48201038, 199379.63431964,\n",
       "       151367.27529441, 139807.47826   , 191552.94231098, 198015.57405461,\n",
       "       178605.71828764,  99992.12123451, 163463.8557344 , 146688.01799625,\n",
       "       174258.08245709,  29920.27210022,  87584.72552704,  81993.52303181,\n",
       "       230027.67016439, 147253.26719606, 208198.94837266, 191189.30914074,\n",
       "       128034.59725276,  84646.44108984, 148787.19018979, 199551.97357383,\n",
       "       171342.47586178, 210544.94187964, 153377.80812405, 127717.720476  ,\n",
       "       220189.5776588 ,  83805.38152571, 219151.30027958, 123854.77083964,\n",
       "       113006.89908007, 115377.1125263 , 101832.86781559, 193847.46413024,\n",
       "       240722.06979438, 121323.35278493, 114241.40215468, 161777.47927844,\n",
       "       160330.17592807, 151733.85763343, 169617.64313788, 238010.35910872,\n",
       "       279463.77139625, 111665.9076614 , 151867.82685766, 162608.70866112,\n",
       "       174920.28246233, 309732.88086877,  46800.15029258, 193178.36413534,\n",
       "        32562.36215659, 166440.26689991,  89367.39941754, 378094.73075439,\n",
       "       222271.52363101, 183788.85873978, 118172.90984047, 217438.13886949,\n",
       "       182100.47266568, 117596.80196842, 102697.37608654, 370650.99341089,\n",
       "       187844.87015846, 140808.46208444, 121424.03014175, 127089.26111634,\n",
       "       229194.4356742 , 351661.32435132, 114332.13045688, 193011.94640415,\n",
       "       245665.05557695, 132908.38384114, 128418.92478389,  91628.26451764,\n",
       "       140517.94115959, 226376.92284167, 113432.45900658, 146211.16543608,\n",
       "       157871.45510025, 231318.08926459, 196334.92981226, 211954.73463075,\n",
       "       308878.75739027, 194200.53275211, 128605.73992656, 442203.12804032,\n",
       "       159708.9870786 ,  65874.16873846, 161888.43675071, 195757.94567318,\n",
       "       173688.8875407 , 105015.99460626, 189140.30725425, 218171.57626995,\n",
       "       135259.37866995,  91239.98330148, 241413.93676177, 484256.74386191,\n",
       "       145262.7056018 , 127203.42002886, 359924.52831255, 191722.59260818,\n",
       "       409270.81471027, 323689.83700884, 306868.61288007, 174672.57173604,\n",
       "       102538.77998875, 373517.863     , 107667.10851174, 129843.08480499,\n",
       "       131646.13496939, 258864.36718436, 132199.51769948, 214528.43980458,\n",
       "       152854.2154771 , 186045.46206847, 169066.72518729, 206536.78061489,\n",
       "       200670.30532682, 182768.13977067, 202576.74594274, 100567.35314901,\n",
       "       183767.63506585, 162204.58770618, 134727.33491516, 198670.90180307,\n",
       "        77534.80063082, 155224.9813793 , 159136.69657492, 129506.19512217,\n",
       "        98956.63390688, 200701.48704366, 191407.24915227, 150958.89122128,\n",
       "        80778.50060354, 127518.13849291, 121455.69075313, 119431.57371596,\n",
       "        61600.60793131, 132837.25302498, 267386.05283735, 244974.42681084,\n",
       "       208454.46974736, 110948.74095806, 123896.04465789, 442153.05871221,\n",
       "       305736.00452993, 251256.0213744 , 170730.54303654, 177363.58031361,\n",
       "       250791.52545834, 193384.51841995, 445528.94144024, 124614.71163956,\n",
       "       187344.02870608, 155706.231184  , 206239.4849195 , 174136.30962003,\n",
       "       103519.78286607, 161816.74684783,  77025.54402279, 137376.15720135,\n",
       "        96296.18710612, 204165.6526401 , 267494.83735422, 194918.02947487,\n",
       "       158155.38116469, 109555.19414192, 206260.61750371, 163558.13586894,\n",
       "       133564.26940922, 110293.32847912, 182872.13915609, 144855.66243604,\n",
       "       138978.583806  ,  96320.02287305, 188311.58787985, 164567.13741764,\n",
       "       284797.42767762, 141495.7506564 , 143279.93255226, 125293.51832065,\n",
       "       319331.81480144, 192878.60809984, 124692.04975815, 183301.63717846,\n",
       "       144397.28588815, 106238.48505048, 151910.49014065, 117673.75533627,\n",
       "       224177.12419273, 242096.44646988, 188978.47496394, 195055.33316967,\n",
       "        98282.89272079, 430758.43149363, 272538.99152053, 195962.16026701,\n",
       "       204902.60175499, 154404.82182404,  37583.31531376, 142777.62403066,\n",
       "       190662.36890977, 161005.80104726, 190614.24504027, 190986.2787716 ,\n",
       "       121673.79348725,  80971.60772587, 250340.13582333, 220739.33609852,\n",
       "       147022.45109732, 279641.48401541, 167241.13736324,  52134.7060404 ,\n",
       "       154413.89627213,  75487.18323954, 268835.3000992 , 169573.59099454,\n",
       "        80651.17154028, 426101.19814292, 379093.44745647, 228101.81630079,\n",
       "       235819.09332867, 169341.57261977, 302416.9922811 , 262514.30926587,\n",
       "       386513.29940617, 260897.90481305, 111671.35663397, 112634.06315622,\n",
       "       175120.71885411, 326038.90291375, 291030.46450884, 157612.83328026,\n",
       "       229975.14548723, 228560.82770344, 175435.08199331,  90243.88349026,\n",
       "        53823.4259111 , 435455.98750945, 226631.57413018, 279675.43884263,\n",
       "       212137.12910755, 135335.6185103 , 124694.66031057, 162936.29390145,\n",
       "       292119.62340141, 172896.85468137, 128033.53325652, 200267.98502723,\n",
       "       186581.67902374, 148043.32338874, 192530.36582635, 196314.70096841,\n",
       "       161095.03282143, 346207.28063745, 108920.61379905, 138035.31946043,\n",
       "       151425.22657016, 197205.50765018, 129727.92391991, 107804.38374227,\n",
       "       262442.14348415, 138979.09046477,  68647.64208276,  93259.28519226,\n",
       "       122720.85957463, 238824.77739258, 181581.14231918, 115287.75591196,\n",
       "        86143.08394351, 124779.37240131,  98367.46256037, 174623.79448365,\n",
       "       106746.95603289, 106823.38652905, 149196.95245133, 156506.56111735,\n",
       "       207855.56132956, 238240.26874046, 260808.82768871, 173425.13497706,\n",
       "       165151.76057373, 340789.62393686, 114296.91847706, 146120.09745402,\n",
       "        63739.00919434,  63152.69135216, 383546.28162917, 201641.04159392,\n",
       "       138406.40991795, 127241.52309041, 196884.25732652, 219924.91404338,\n",
       "       259466.01113644, 276592.22169837, 111648.63284368, 354769.38488179,\n",
       "       377874.64923654, 271151.23334366, 233088.12265436,  98224.64073694,\n",
       "        14993.46112653, 114087.38398053, 128593.37420958, 242968.30637636,\n",
       "       119818.67466666, 122974.70097355, 149067.71520527, 192194.00104039,\n",
       "       193028.01206906, 156518.22546943, 193404.30579703, 175130.92855409,\n",
       "       176134.56045318, 230230.03661344,  83043.73476983, 152284.35412476,\n",
       "        78691.71707806,  82475.39925388, 126052.29568586, 194028.98136617,\n",
       "       226487.37036264,  41113.65450048, 125491.15728467, 170524.29790794,\n",
       "       258945.71409337, 243650.98389265, 190191.08894664,  92347.50041514,\n",
       "       221213.65841925, 154036.93507286, 109049.78635787, 155561.80026574,\n",
       "       125465.5541707 , 317951.8258108 , 136047.57499517, 275131.0086362 ,\n",
       "       165694.61215598, 203661.40258908, 250767.68248772, 103476.59549449,\n",
       "       182830.32360347, 102943.60837544, 112288.74348825, 184462.51145465,\n",
       "       218415.29338375, 274015.8041458 , 219307.38362625, 183455.34208958,\n",
       "       206020.3052143 , 113168.9116165 , 235121.50674203, 128986.58721197,\n",
       "       163246.39880342, 395862.42454289, 130539.23788498, 316228.19869025,\n",
       "       170487.59437782, 297796.75469402, 212707.51339579, 124835.25373318,\n",
       "       138547.19162086, 159351.59160428, 355412.13428777, 336868.18414228,\n",
       "       221349.55413688, 213586.21475055, 172155.58095777, 170921.48304385,\n",
       "       138496.59063192, 133931.74177473, 106818.12032199, 337388.50470987,\n",
       "       155245.27619151, 127662.56729859, 183028.91781185,  26841.57524995,\n",
       "       176618.94898956, 209678.27033303, 142444.80245757, 116494.68706496,\n",
       "       194035.66884548, 210361.10056462, 124933.11245418, 284027.83211963,\n",
       "       121419.30261961, 104458.88705386, 155571.44036225, 236973.48474086,\n",
       "       285921.81094197, 120854.18464144,  94993.7057275 , 156099.65745935,\n",
       "       240654.7454367 , 167749.41269733, 247291.95591698, 319907.47140928,\n",
       "       122374.06100441, 202991.33172369, 105117.98128852, 155078.74712066,\n",
       "       237633.99212432, 122971.0463135 , 256885.83236916, 127450.59693189,\n",
       "       221469.13164165, 387330.83993221, 223668.18641598, 202475.16364112,\n",
       "       131823.30081512, 274746.24769432, 112778.23912284, 146921.17596416,\n",
       "       116363.31380612, 208278.22157707, 100579.0903495 , 329525.1811809 ,\n",
       "       204243.94646318, 179300.78173634, 161226.01578818, 174829.26239116,\n",
       "       213995.17313412, 129013.13003828, 113693.01578435, 168227.27872446,\n",
       "       162624.20969704, 236550.14053289,  66412.52562441,  63474.47928187,\n",
       "       283510.82072521, 154443.5341689 , 237298.1751803 , 262965.85823839,\n",
       "       226990.98721876, 183551.69468112, 195169.91826206, 228159.22898881,\n",
       "       208016.17472247, 117490.25270016, 232818.20609295, 148157.29761337,\n",
       "       145938.09908361, 123306.62841409, 159592.69111782, 507303.14701434,\n",
       "       116776.98156135, 225891.50989089, 259326.40156175, 218157.12706914,\n",
       "       113825.30728652, 109868.13918025, 150812.18676464, 239678.50394588,\n",
       "       179976.2533846 ,  94061.98257239, 233317.78904694, 229562.9620788 ,\n",
       "       132566.64489674, 155492.08226252,  97894.66806427, 192843.7811979 ,\n",
       "        84284.89508608, 222612.61733101,  96969.34855009, 172273.68323858,\n",
       "       257634.25271788, 144983.3172038 , 167853.94238752, 182145.49973342,\n",
       "       196579.26721087, 134729.52546617, 143321.62658226, 210412.79961024,\n",
       "       172497.45485308, 230508.50237991, 380852.9900474 , 183317.50864089,\n",
       "        69325.80895255, 114418.38319455, 190159.23527106,  99019.96539107,\n",
       "       175262.45006128, 237279.76554819, 211174.50518705, 165783.30051974,\n",
       "       227000.73393259, 131849.0852534 , 251092.28828023, 126725.01307248,\n",
       "       137358.97795804, 252847.76610073, 159399.61407002, 145695.71555757,\n",
       "       136149.20161024, 146998.19895386,  24970.48535558, 201101.27604039,\n",
       "       155569.81848655, 203434.10446058, 320120.6365349 , 249018.27934163,\n",
       "       106846.85663099, 121617.37868717, 182194.75203788, 125867.97447163,\n",
       "       230418.95459691, 425562.91879143, 206963.80262817,  92007.05103718,\n",
       "       132799.37706808,  10051.51663039, 123311.1879832 , 221384.33165786,\n",
       "       147625.53586956, 180726.28521114, 156397.55518531, 125829.12042489,\n",
       "        57721.14154365, 231001.08576137, 144114.76605698, 178868.72059993,\n",
       "       147364.22437195,  93630.07076423,  93154.40143273, 172113.35307669,\n",
       "       218107.77570666, 330889.38903101, 229614.75627691, 115171.86290161,\n",
       "       120174.78469245, 296992.47167076, 133509.02296029, 282606.33638379,\n",
       "        84369.29006964, 223503.1675008 , 233917.81312466,  45411.97079876,\n",
       "       112681.60653056, 147234.63019417, 101870.90665644, 181600.1901008 ,\n",
       "       100000.57767418, 162890.25073519, 166018.02108968, 136399.46847238,\n",
       "       126619.69211361, 130055.88493059,  99290.8324397 , 218428.75203301,\n",
       "       137299.86876335, 149862.27485361, 164027.10502847, 123148.43107398,\n",
       "        91139.43289145, 144299.40401913, 186510.15232337, 113751.11137529,\n",
       "       170962.65905867, 151338.50979278, 232496.14696539, 120411.88763574,\n",
       "       173221.92952946, 155402.48715155, 316905.09183771, 111118.96574704,\n",
       "       147758.60817425, 164459.49931865, 149650.2392892 , 156825.47960711,\n",
       "       303861.08315306, 219433.30863948, 128406.92475505,  56875.55368926,\n",
       "       137527.41779622, 121687.51595648, 363024.07293108, 257417.63026646,\n",
       "        84254.85347341, 127132.35882299, 103058.41579907, 374794.63768652,\n",
       "       130069.75435914, 200171.65956394, 109576.79952996, 193801.66848111,\n",
       "       236077.50306349,  78452.48432401, 131243.42169248, 110643.89430686,\n",
       "       169535.63962554,  90689.72191454,  94801.09786777, 370887.65215631,\n",
       "       215455.62301188, 157987.51871578, 133981.89245518,  46670.6509332 ,\n",
       "       206054.8770665 , 267073.83978   ,  36678.34512149, 194898.2378884 ,\n",
       "       194441.40117099, 149004.96833241, 164037.65791575,  99541.43020283,\n",
       "       137738.35985552, 200179.63677827, 188421.97054427,  96635.28355198,\n",
       "       333497.96216168, 121199.73089698, 191414.60801862, 197498.97269707,\n",
       "       142793.78847596,  58165.13364424, 154493.25825162, 211850.24762019,\n",
       "       162189.02650262, 158719.10901507, 129789.07456407, 147512.25797334,\n",
       "       345820.90278223, 122071.35312884, 224984.50317552, 257917.29823279,\n",
       "       154107.10329809,  95398.96072796, 229842.02433958, 179797.61510444,\n",
       "       140364.40047365, 214093.98119873, 128542.37036449, 101501.46824354,\n",
       "       104047.04969619, 147255.5281052 ,  60323.32235674, 147303.7814076 ,\n",
       "       206615.18322375, 158606.92057562, 254336.57813975, 194227.76379873,\n",
       "       148842.57854792, 186144.12969947, 182760.32440268, 235876.26010133,\n",
       "       394895.35306255, 230164.70430399, 205068.84424136, 201110.11827991,\n",
       "       165208.7756325 , 268698.50848661, 221173.53804885, 264671.40611567,\n",
       "       226071.87724076, 117406.68440367,  78861.33259231, 132672.21663258,\n",
       "       153989.64448005, 100887.41495047, 145536.55934756,  97835.59369104,\n",
       "       317327.94935664, 204107.05424644, 189705.06762777, 240853.04864697,\n",
       "       192511.67193089, 159884.006829  , 206023.77190721, 413903.46727745,\n",
       "       131154.85925703, 187068.6961438 ,  79066.37925601, 112182.38862754,\n",
       "       245638.36064681, 118131.75074511, 203473.54727201, 143699.58592599,\n",
       "       250546.7879644 , 352341.21764831,  61636.17355324, 240304.10013111,\n",
       "       159221.24866358, 142446.73993279, 184526.43686682, 116932.50705368,\n",
       "       282476.06010335, 265090.77355454, 157054.72965762, 127657.39407635,\n",
       "       139205.4115339 , 334948.93499051, 219196.51149496,  69634.58988084,\n",
       "       129018.46990784, 149644.61039602, 105748.09130326, 245471.12783933,\n",
       "       296024.62535694, 222758.67710147, 201038.16232928, 245552.80112341,\n",
       "       212126.23961234, 289476.11747266, 121921.73507256, 130155.0790735 ,\n",
       "       287232.18973678, 183001.45869706, 182434.60782698, 123134.81910913,\n",
       "       238029.4436097 ,  65929.18031117, 236692.54187231, 191887.52507698,\n",
       "       249745.05981388, 144098.98715818, 208639.20914465, 155342.75732621,\n",
       "       148983.07021725, 180145.68075545, 138078.56738386, 121469.21628289,\n",
       "       214270.00356725, 206179.39756435, 143283.94717645,  98825.07313234,\n",
       "       187022.0971316 , 200568.77470162, 185095.22838967, 228981.45288724,\n",
       "       104263.53380708, 333127.88105619, 249650.69642903, 139345.31895187,\n",
       "       153705.8223936 , 185817.26083508, 163894.40333448, 155156.73151017,\n",
       "       420645.97079696,  62953.08076228, 161081.25282764, 215298.24565028,\n",
       "       140819.53026535, 216169.89152236, 132164.41839464, 231521.51794529,\n",
       "       154244.88351902, 311817.73730767, 189066.56810158, 192935.00277671,\n",
       "       299694.18344837, 149549.79784932, 244407.24313577, 167241.16543474,\n",
       "       146741.95852648, 220734.48119215, 126065.45550082, 155658.21836258,\n",
       "       225210.80895952, 150354.83890701, 115561.91844963, 163688.69797355,\n",
       "       179090.39849051, 408879.76963841,  79350.53588255, 103082.91766318,\n",
       "       102406.55762498, 150422.27656392, 255346.05014663, 137868.10787816,\n",
       "       279537.52745799, 152697.33054092, 194312.29797749, 234497.58229875,\n",
       "       166707.38046871, 276226.07370529, 151843.05781056, 221806.36707217,\n",
       "       182433.1567528 , 215529.88756046, 225860.23397027, 227567.23622871,\n",
       "       128299.57123096, 106109.89642031, 190401.08271892,  48612.89575328,\n",
       "       255301.27341508,  85811.8224423 , 139073.87029967, 189502.12879065,\n",
       "       113287.95797247, 120730.08557304, 125731.40965374, 310299.5067007 ,\n",
       "       162380.37220527, 132673.61413485, 222659.35137323, 222049.25872023,\n",
       "       207287.59107362,  85071.7617447 , 105964.66890487, 160310.0825844 ,\n",
       "       161842.11500572,  93045.07287294, 317539.86452146, 143044.80691717,\n",
       "       183657.46981715, 211873.54023489, 374602.05207201, 143497.17476171,\n",
       "       189316.2026066 , 156519.27232906, 172622.92283538, 144792.25280422,\n",
       "       283875.22569239, 209890.25111814, 118928.6458501 , 132588.46468631,\n",
       "       289940.2177735 , 165700.3149299 , 118815.18550843, 123581.22963979,\n",
       "       203214.30897144, 196370.27216674, 228316.79459391, 130288.6701774 ,\n",
       "       175306.21407687, 155937.36526315, 258687.05614025, 230413.97169078,\n",
       "       125493.91091371, 180846.53721551, 201763.28669797, 158107.47816138,\n",
       "       126618.90429316, 151981.20571669, 157259.02471501,  91633.83316087,\n",
       "       222138.95159191, 103172.66269324, 186946.85510312,  68304.86761943,\n",
       "       363012.69894915, 140890.63933013, 144234.8292365 , 166610.15537223,\n",
       "       168420.8874327 , 156454.39582908, 201694.86921428, 234622.36890751,\n",
       "       197073.57391583, 178972.0915827 , 237871.77878393, 330118.67040426,\n",
       "       195658.79914684, 184172.13807122, 224873.19679004, 129948.20317767,\n",
       "       100255.3977974 , 122367.5165402 ])"
      ]
     },
     "execution_count": 26,
     "metadata": {},
     "output_type": "execute_result"
    }
   ],
   "source": [
    "lr.predict(test_mod_6)"
   ]
  },
  {
   "cell_type": "code",
   "execution_count": 27,
   "metadata": {},
   "outputs": [],
   "source": [
    "# let's submit this to kaggle\n",
    "\n",
    "# this will go in the sale price column \n",
    "y_preds_test = lr.predict(test_mod_6)\n",
    "\n",
    "submission = pd.DataFrame(y_preds_test, columns = ['SalePrice'])\n",
    "submission['Id'] = test['id']"
   ]
  },
  {
   "cell_type": "code",
   "execution_count": 28,
   "metadata": {},
   "outputs": [
    {
     "data": {
      "text/plain": [
       "(878, 2)"
      ]
     },
     "execution_count": 28,
     "metadata": {},
     "output_type": "execute_result"
    }
   ],
   "source": [
    "submission.shape"
   ]
  },
  {
   "cell_type": "code",
   "execution_count": 29,
   "metadata": {},
   "outputs": [],
   "source": [
    "submission.to_csv('../datasets/submissions/sub_mod_6.csv', index = False)"
   ]
  },
  {
   "cell_type": "code",
   "execution_count": 27,
   "metadata": {},
   "outputs": [],
   "source": [
    "# baseline model should be the mean of y\n",
    "# look at april 2 notebook\n",
    "\n",
    "# check the scores of the model with the mean\n",
    "sub = pd.read_csv('../datasets/submissions/sub_3.csv')"
   ]
  },
  {
   "cell_type": "code",
   "execution_count": 28,
   "metadata": {},
   "outputs": [
    {
     "data": {
      "text/plain": [
       "(878, 2)"
      ]
     },
     "execution_count": 28,
     "metadata": {},
     "output_type": "execute_result"
    }
   ],
   "source": [
    "sub.shape"
   ]
  },
  {
   "cell_type": "markdown",
   "metadata": {},
   "source": [
    "# Kaggle Score"
   ]
  },
  {
   "cell_type": "markdown",
   "metadata": {},
   "source": [
    "Not as good as my third submission"
   ]
  },
  {
   "cell_type": "code",
   "execution_count": 30,
   "metadata": {},
   "outputs": [
    {
     "data": {
      "text/plain": [
       "32651.59049"
      ]
     },
     "execution_count": 30,
     "metadata": {},
     "output_type": "execute_result"
    }
   ],
   "source": [
    "32651.59049"
   ]
  },
  {
   "cell_type": "code",
   "execution_count": null,
   "metadata": {},
   "outputs": [],
   "source": []
  }
 ],
 "metadata": {
  "kernelspec": {
   "display_name": "Python 3",
   "language": "python",
   "name": "python3"
  },
  "language_info": {
   "codemirror_mode": {
    "name": "ipython",
    "version": 3
   },
   "file_extension": ".py",
   "mimetype": "text/x-python",
   "name": "python",
   "nbconvert_exporter": "python",
   "pygments_lexer": "ipython3",
   "version": "3.7.4"
  }
 },
 "nbformat": 4,
 "nbformat_minor": 2
}
