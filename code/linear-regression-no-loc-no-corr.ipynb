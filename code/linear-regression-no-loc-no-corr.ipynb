{
 "cells": [
  {
   "cell_type": "markdown",
   "metadata": {},
   "source": [
    "# Table of Contents\n",
    "\n",
    "### Contents:\n",
    "- [Imports, reading in data](#Initial-Steps)\n",
    "- [Choosing features](#Choosing-features)\n",
    "- [Fitting the model](#Fitting-the-model)\n",
    "- [Scoring and evaluating the model](#Scoring-and-evaluating-the-model)"
   ]
  },
  {
   "cell_type": "markdown",
   "metadata": {},
   "source": [
    "This model is going to take into account everything that is NOT location. "
   ]
  },
  {
   "cell_type": "markdown",
   "metadata": {},
   "source": [
    "# Initial Steps"
   ]
  },
  {
   "cell_type": "code",
   "execution_count": 1,
   "metadata": {},
   "outputs": [
    {
     "name": "stderr",
     "output_type": "stream",
     "text": [
      "/opt/anaconda3/lib/python3.7/site-packages/statsmodels/tools/_testing.py:19: FutureWarning: pandas.util.testing is deprecated. Use the functions in the public API at pandas.testing instead.\n",
      "  import pandas.util.testing as tm\n"
     ]
    }
   ],
   "source": [
    "# imports\n",
    "\n",
    "import numpy as np\n",
    "import seaborn as sns\n",
    "import matplotlib.pyplot as plt\n",
    "import pandas as pd\n",
    "from sklearn.linear_model import LinearRegression\n",
    "from sklearn.model_selection import train_test_split, cross_val_score\n",
    "from sklearn.preprocessing import PolynomialFeatures, StandardScaler\n",
    "\n",
    "%matplotlib inline"
   ]
  },
  {
   "cell_type": "code",
   "execution_count": 2,
   "metadata": {},
   "outputs": [],
   "source": [
    "# read in cleaned TRAIN data\n",
    "train = pd.read_csv('../datasets/train_clean_dum.csv')"
   ]
  },
  {
   "cell_type": "code",
   "execution_count": 3,
   "metadata": {},
   "outputs": [
    {
     "data": {
      "text/plain": [
       "(1556, 247)"
      ]
     },
     "execution_count": 3,
     "metadata": {},
     "output_type": "execute_result"
    }
   ],
   "source": [
    "train.shape"
   ]
  },
  {
   "cell_type": "code",
   "execution_count": 4,
   "metadata": {},
   "outputs": [],
   "source": [
    "# I want to play with the training data, I don't actually want to mess with it\n",
    "# rerun this cell to get original data\n",
    "df = train"
   ]
  },
  {
   "cell_type": "code",
   "execution_count": 5,
   "metadata": {},
   "outputs": [],
   "source": [
    "# read in cleaned TEST data\n",
    "test = pd.read_csv('../datasets/test_clean_dum.csv')"
   ]
  },
  {
   "cell_type": "code",
   "execution_count": 6,
   "metadata": {},
   "outputs": [
    {
     "data": {
      "text/plain": [
       "(878, 246)"
      ]
     },
     "execution_count": 6,
     "metadata": {},
     "output_type": "execute_result"
    }
   ],
   "source": [
    "test.shape"
   ]
  },
  {
   "cell_type": "markdown",
   "metadata": {},
   "source": [
    "#### * note that the baseline model is the mean house price, done in april 2 notebook\n"
   ]
  },
  {
   "cell_type": "markdown",
   "metadata": {},
   "source": [
    "# Choosing features"
   ]
  },
  {
   "cell_type": "markdown",
   "metadata": {},
   "source": [
    "#### By inspection, I decided that these were the columns most related to location:\n",
    "\n",
    "- MS Zoning\n",
    "- Neighborhood\n",
    "- Condition 1\n",
    "- Condition 2\n"
   ]
  },
  {
   "cell_type": "code",
   "execution_count": 8,
   "metadata": {},
   "outputs": [],
   "source": [
    "# make a list of location related data, drop it from the data frame\n",
    "features_to_drop =[]\n",
    "for name in train.columns:\n",
    "    if 'ms_zoning' in name:\n",
    "        features_to_drop.append(name)\n",
    "    elif 'neighborhood' in name:\n",
    "        features_to_drop.append(name)\n",
    "    elif 'condition' in name:\n",
    "        features_to_drop.append(name)"
   ]
  },
  {
   "cell_type": "code",
   "execution_count": 9,
   "metadata": {},
   "outputs": [],
   "source": [
    "# also want to drop saleprice for x \n",
    "\n",
    "features_to_drop.append('saleprice')"
   ]
  },
  {
   "cell_type": "code",
   "execution_count": 10,
   "metadata": {},
   "outputs": [],
   "source": [
    "# let X be the numeric columns most strongly correlated to sale price\n",
    "X = df.drop(columns = features_to_drop)\n",
    "\n",
    "# let y be the sale price, the goal output\n",
    "y = df['saleprice']"
   ]
  },
  {
   "cell_type": "code",
   "execution_count": 11,
   "metadata": {},
   "outputs": [],
   "source": [
    "# save a copy of the official TEST dataset that has these same columns\n",
    "features = X.columns\n",
    "test_mod_5 = test[features]\n",
    "test_mod_5.to_csv('../datasets/test_mod_5.csv')"
   ]
  },
  {
   "cell_type": "markdown",
   "metadata": {},
   "source": [
    "# Fitting the model"
   ]
  },
  {
   "cell_type": "code",
   "execution_count": 12,
   "metadata": {},
   "outputs": [],
   "source": [
    "# split our data into train and test data to properly cross validate our model \n",
    "\n",
    "X_train, X_test, y_train, y_test = train_test_split(X,y, random_state = 5)"
   ]
  },
  {
   "cell_type": "code",
   "execution_count": 13,
   "metadata": {},
   "outputs": [
    {
     "data": {
      "text/plain": [
       "id                -8.834802e+00\n",
       "pid                1.719423e-08\n",
       "ms_subclass       -9.106451e+01\n",
       "lot_frontage       5.665273e+01\n",
       "lot_area           1.930141e+00\n",
       "                       ...     \n",
       "sale_type_ConLw    1.183654e+04\n",
       "sale_type_New      2.101701e+04\n",
       "sale_type_Oth      8.093940e+04\n",
       "sale_type_VWD      0.000000e+00\n",
       "sale_type_WD       9.397133e+03\n",
       "Length: 203, dtype: float64"
      ]
     },
     "execution_count": 13,
     "metadata": {},
     "output_type": "execute_result"
    }
   ],
   "source": [
    "# instantiate linear regression model and fit it to our data\n",
    "\n",
    "lr = LinearRegression()\n",
    "lr.fit(X_train, y_train)\n",
    "\n",
    "# look at the coefficients and interpret them\n",
    "pd.Series(lr.coef_, index = features)"
   ]
  },
  {
   "cell_type": "markdown",
   "metadata": {},
   "source": [
    "# Scoring and evaluating the model"
   ]
  },
  {
   "cell_type": "code",
   "execution_count": 15,
   "metadata": {},
   "outputs": [
    {
     "name": "stdout",
     "output_type": "stream",
     "text": [
      "The training score is: 0.9405131118828912\n",
      "The testing score is: 0.5857765151277651\n",
      "The cross validation score is: 0.6505881332484128\n"
     ]
    }
   ],
   "source": [
    "# scoring\n",
    "\n",
    "print(f'The training score is: {lr.score(X_train, y_train)}')\n",
    "print(f'The testing score is: {lr.score(X_test, y_test)}')\n",
    "print(f'The cross validation score is: {cross_val_score(lr, X_train, y_train, cv=5).mean()}')\n",
    "\n",
    "# Super overfit, very high variance, low bias"
   ]
  },
  {
   "cell_type": "code",
   "execution_count": 16,
   "metadata": {},
   "outputs": [],
   "source": [
    "# generate the predicted values\n",
    "y_preds = lr.predict(X)"
   ]
  },
  {
   "cell_type": "code",
   "execution_count": 17,
   "metadata": {},
   "outputs": [
    {
     "data": {
      "image/png": "[encoded data removed]",
      "text/plain": [
       "<Figure size 864x648 with 1 Axes>"
      ]
     },
     "metadata": {
      "needs_background": "light"
     },
     "output_type": "display_data"
    }
   ],
   "source": [
    "# Plot the model\n",
    "plt.figure(figsize=(12,9))\n",
    "\n",
    "# Generate a scatterplot of predicted values versus actual values.\n",
    "plt.scatter(y_preds, y, s=5, color='skyblue', alpha = 0.5)\n",
    "\n",
    "# Plot a line.\n",
    "plt.plot([0, np.max(y)],\n",
    "         [0, np.max(y)],\n",
    "         color = 'black')\n",
    "\n",
    "# Tweak title and axis labels.\n",
    "plt.xlabel(\"Predicted Values: $\\hat{y}$\", fontsize = 20)\n",
    "plt.ylabel(\"Actual Values: $y$\", fontsize = 20)\n",
    "plt.title('Predicted Values vs. Actual Values', fontsize = 24);\n",
    "\n",
    "# looks like we might want to take the log"
   ]
  },
  {
   "cell_type": "code",
   "execution_count": 18,
   "metadata": {},
   "outputs": [
    {
     "data": {
      "text/plain": [
       "array([ 138983.60279945,  137786.76926841,  223238.85570673,\n",
       "        117080.07414667,  170543.70733039,   84644.17127511,\n",
       "        113483.46697841,  151342.8657047 ,  167920.15316365,\n",
       "        163384.46310174,  152495.12345211,  121214.9039477 ,\n",
       "        143660.34054898,  275138.11173091,  111333.47634692,\n",
       "        112147.02880216,  167509.09915427,  118870.21623345,\n",
       "        190523.36818176,  194627.57664314,  146773.86858403,\n",
       "        132825.39202843,  202182.83248282, -559541.02738321,\n",
       "        182137.23239501,  114823.90757053,  120138.23885123,\n",
       "        160583.99506281,  169212.06546581,   41191.34536238,\n",
       "        109185.51457782,   86130.08377314,  208267.31684025,\n",
       "        151738.69593578,  213286.43757869,  198283.74527985,\n",
       "        135763.64446329,   70551.10436384,  102480.96262873,\n",
       "        188087.70487158,  159402.81918983,  203857.51933644,\n",
       "        149295.17173483,  161707.73593634,  206710.39965084,\n",
       "        101842.25782672,  213751.1692588 ,  115276.95139622,\n",
       "        117025.12937294,  111810.38561027,  113494.48182359,\n",
       "        196677.10946453,  239819.14509805,  125151.41355349,\n",
       "         87868.57638977,  156210.66938499,  167532.66337922,\n",
       "        137116.60710315,  158201.65082155,  232515.02017359,\n",
       "        307673.28489824,  159966.98143881,  144852.95341564,\n",
       "        171705.164384  ,  171394.82596788,  331540.61174021,\n",
       "         81655.87840075,  201600.01628926,   64351.56143137,\n",
       "        146998.85323242,   74215.68405708,  353614.52386587,\n",
       "        223069.83957655,  153833.25637829,  127028.53785484,\n",
       "        216982.75927352,  122173.75495638,  129742.75315952,\n",
       "         81364.36387726,  382725.01347716,  187296.72237243,\n",
       "        127297.34543547,  121041.25489335,   95250.71876403,\n",
       "        222145.56032083,  361151.83802928,  123888.08306527,\n",
       "        197323.65194987,  242269.82835169,  124503.0530948 ,\n",
       "        125871.15196977,  113932.35485037,  130166.2455791 ,\n",
       "        192862.40128705,  145019.67613264,  134626.11014576,\n",
       "        199565.38857799,  237151.67665284,  194949.58155025,\n",
       "        210921.433685  ,  335713.0355099 ,  175346.01590954,\n",
       "        113667.77395403,  504821.71265708,  158126.72184213,\n",
       "        102226.13439321,  162113.05796094,  210117.09006838,\n",
       "        174846.37367712,  113159.81892532,  176880.66009594,\n",
       "        214063.55052676,   90812.97151068,  152627.68519615,\n",
       "        205351.04216545,  521363.00905103,  103909.08797307,\n",
       "        104653.623897  ,  362136.93365254,  193287.98111168,\n",
       "        428906.1234976 ,  318708.31104242,  298941.01333397,\n",
       "        179844.80185754,  101605.94540285,  383564.39891205,\n",
       "        110610.64394212,  135285.05407588,  116251.82833563,\n",
       "        255486.47916704,  125383.51514923,  209804.86295299,\n",
       "        143565.82836379,  196941.6936237 ,  175176.6657344 ,\n",
       "        225102.74534764,  206892.10936497,  180420.4511545 ,\n",
       "        211209.09773306,  119474.53943163,  173055.99922837,\n",
       "        150108.48620615,  140775.80046655,  182271.64034922,\n",
       "         79222.2357635 ,  125997.45847797,  164949.79037129,\n",
       "        138346.23258068,   52615.76974299,  226075.1798105 ,\n",
       "        193063.55820398,  165361.81960479,  115935.47900172,\n",
       "        127961.66557442,  110606.54144167,  132192.82170387,\n",
       "         70969.14428044,  138794.35332269,  272247.51595973,\n",
       "        268536.13577171,  219602.33543155,  127005.91498991,\n",
       "        131525.09357975,  480541.87741264,  280786.53768033,\n",
       "        245522.26063522,  180103.26228636,  154762.666452  ,\n",
       "        277172.99326507,  200679.88567352,  544030.34384446,\n",
       "        132003.54756921,  204293.40014134,  142815.87131332,\n",
       "        197899.54543531,  188694.03661183,   90391.36576591,\n",
       "        139085.8075231 ,   87833.23381412,  143608.40677992,\n",
       "        123498.88750508,  201236.04882174,  284411.65018042,\n",
       "        190648.25630975,  142615.24578084,  113564.55653984,\n",
       "        194236.83456084,  188420.80572667,  125069.99972698,\n",
       "        -14827.47917292,  191074.58424676,  133186.91622843,\n",
       "        120079.75620433,   88171.76793793,  185821.60564438,\n",
       "        165421.64283038,  280570.38016702,  151180.87660971,\n",
       "        138612.06841143,   93999.64458791,  316252.55119142,\n",
       "        187207.85276142,  123682.97287121,  183637.58816457,\n",
       "        118512.21643576,   96528.75881037,  146098.30559273,\n",
       "        138218.66656215,  203275.97443917,  240796.33236565,\n",
       "        199742.02633407,  220394.54706592,  115380.9247339 ,\n",
       "        613217.7931411 ,  253124.20123851,  192598.88987043,\n",
       "        238547.51120562,  147032.37816815,   75359.51829885,\n",
       "        142414.94882246,  149668.87841139,  142323.52445712,\n",
       "        164844.65368011,  194795.53444861,  115998.35214909,\n",
       "         91563.72463918,  253579.9503642 ,  219756.64761562,\n",
       "        171985.38925636,  279638.29063458,  211048.70072803,\n",
       "         93216.91030114,  121771.58536474,   88705.16616374,\n",
       "        324635.0568515 ,  174567.73392485,   93897.82086764,\n",
       "        449992.83670187,  394290.04862689,  199811.97188354,\n",
       "        280895.90682918,  149813.93100981,  301393.14284882,\n",
       "        280907.01885295,  377855.73661982,  262472.06411226,\n",
       "        131265.76315462,  129707.48704227,  178186.14007736,\n",
       "        326863.88086499,  301262.07977108,  151999.46075279,\n",
       "        237244.8753114 ,  231606.45005919,  178596.95808061,\n",
       "        110236.84381887,   79004.21174862,  456681.62239444,\n",
       "        216531.37087991,  257111.38885022,  186440.13887024,\n",
       "        140048.81791187,  111307.6490165 ,  165990.80225733,\n",
       "        273186.99150082,  154515.10814787,  141311.47337076,\n",
       "        194720.37816487,  131594.32682931,  150771.0561254 ,\n",
       "        163219.54392656,  190339.85546652,  144696.89013534,\n",
       "        340866.80079442,  116934.99100905,  158317.31192048,\n",
       "        134914.22387376,  193469.46710675,   74691.82641715,\n",
       "        107040.50507635,  241156.82320698,  145186.87710587,\n",
       "        183936.45154001,   80048.1871222 ,  119319.32337489,\n",
       "        257916.32521677,  220838.07511188,  103128.77535615,\n",
       "         85774.71012839,  140180.99156912,   93242.52788441,\n",
       "        100187.1207222 ,   64408.75951492,   96912.153153  ,\n",
       "        161262.45908716,  140552.52839437,  203311.2660519 ,\n",
       "        244159.99348392,  250580.01803146,  137708.60431024,\n",
       "        158756.7884941 ,  342487.44976969,  121202.15074396,\n",
       "        144389.80967586,   57714.37529563,  104034.89292414,\n",
       "        499688.54381751,  197885.53212387,  132845.24770618,\n",
       "        132055.09482044,  238725.9670081 ,  199841.04471762,\n",
       "        259083.05027798,  281950.78746289,   75733.88997917,\n",
       "        350575.1890738 ,  390843.46806495,  241889.88388532,\n",
       "        240040.7324475 ,   79214.34274176,   50091.73326167,\n",
       "        124026.15327664,  154974.6282915 ,  245280.55051275,\n",
       "        123772.82764968,  113913.52032343,  156422.60223572,\n",
       "        171976.04072788,  209305.55860882,  141750.90746066,\n",
       "        165235.68964774,  167626.85772465, -569151.55005561,\n",
       "        199278.67393526,  103751.65101254,  158535.42005807,\n",
       "         99034.17167984,  128871.19718852,  139969.35751634,\n",
       "        151149.73530355,  207947.86522821,  104238.83449445,\n",
       "        129695.58624132,  178268.47461442,  260985.23349791,\n",
       "        227484.6279352 ,  194238.52214944,   88263.21052378,\n",
       "        215154.64665549,  152762.17065605,   99643.83045476,\n",
       "        151464.98722425,  119882.92185222,  309355.30009137,\n",
       "        129345.44447195,  253235.46248326,  151645.08720657,\n",
       "        204290.22428923,  262343.6848811 ,  116813.39639178,\n",
       "        152623.36014167,  159488.97008236,   76737.85770003,\n",
       "        134514.82379233,  206758.8777787 ,  276038.33767209,\n",
       "        245662.13815917,  193954.08649323,  206836.97025512,\n",
       "        125420.74826973,  213730.67335299,  112672.80722109,\n",
       "        164807.26940841,  399415.27133739,  131603.65584212,\n",
       "        311287.60019691,  160621.19672847,  294597.46150358,\n",
       "        208903.09434524,  119818.72346294,  154592.1965289 ,\n",
       "        121958.26763568,  352942.79942236,  344669.94870538,\n",
       "        213039.49875983,  183780.07780659,  115253.88457078,\n",
       "        176319.22939026,  169317.28954548,  137039.03715838,\n",
       "         92314.99488084,  365351.55449002,  155235.9456977 ,\n",
       "         89442.25273305,  170565.52953293,   38970.91070988,\n",
       "        180044.34774494,  199297.61058451,  145495.95764651,\n",
       "        109926.66844316,  233222.19329874,  229561.88780914,\n",
       "        110982.37175023,  280523.29276699,  105386.7425172 ,\n",
       "        131451.30088731,  101806.45844872,  228351.91801292,\n",
       "        286310.78752207,  117216.89950608,  117744.17454315,\n",
       "        152262.1071542 ,  260955.35829441,  117139.28631724,\n",
       "        259613.99965693,  317860.45777001,  134372.63516019,\n",
       "        250437.52833966,  109858.80991907,  102997.24884026,\n",
       "        229485.13931245,  141173.4607932 ,  275185.73600691,\n",
       "        113726.70878705,  218132.20424623,  398765.52729389,\n",
       "        196278.98196192,  206193.51722208,  163931.94893423,\n",
       "        269775.19925596,   81704.07827235,  138512.13694829,\n",
       "        128194.7217868 ,  191775.49125431,   81216.07360158,\n",
       "        326476.15512331,  198556.15772439,  180275.29150326,\n",
       "        121398.74180309,  174484.42570238,  216426.4778167 ,\n",
       "        136947.27429578,  116781.8342009 ,  168266.83110015,\n",
       "        150580.11780261,  259326.69556507,   35082.53349326,\n",
       "         76774.85104929,  294762.48501353,  186552.32306303,\n",
       "        243275.49325576,  276177.58919071,  215510.1242802 ,\n",
       "        166117.76311861,  190871.84943262,  222643.61469312,\n",
       "        217527.65407884,  117319.5895928 ,  229908.02012192,\n",
       "        152219.00791823,  116168.34429864,  130577.71689999,\n",
       "        142265.15924514,  553329.87903899,  117748.53040072,\n",
       "        226150.70973665,  268940.88130566,  231235.73845585,\n",
       "         93260.03111779,  116547.9703375 ,  140414.48460001,\n",
       "        244021.5862033 ,  172736.57391285,   91384.70871499,\n",
       "        234785.20826319,  219789.26585055,  126998.55976858,\n",
       "        142697.48871856,   88430.76331638,  193595.10142259,\n",
       "         57097.49399306,  231726.01784567,  128445.9467232 ,\n",
       "        173328.73557647,  301975.62694693,  147580.63814204,\n",
       "        157186.84193156,  169784.88363578,  195122.35647695,\n",
       "        138174.51401199,  111452.9408314 ,  214836.75258119,\n",
       "        195531.52673435,  231845.95382744,  394885.31348468,\n",
       "        166239.42957827,  112169.37146993,  119788.67171509,\n",
       "        163010.85202473,  113506.57323154,  181059.91631743,\n",
       "        193035.71143531,  196562.5597972 ,  153960.59770081,\n",
       "        258062.2169428 ,  132530.06229906,  204834.63245528,\n",
       "        152169.54655029,  113095.90880952,  243701.5821443 ,\n",
       "        153062.65061988,  106476.7624745 ,  148509.55988806,\n",
       "        138706.60690623,   30382.03234028,  203561.9455648 ,\n",
       "        159639.08718664,  197383.3706957 ,  301964.36735317,\n",
       "        255818.41621053,  106571.60434881,  120239.333907  ,\n",
       "        123309.52825584,  127067.47215898,  222289.456405  ,\n",
       "        449175.25924768,  179914.40404535,   93947.0670623 ,\n",
       "        133558.55540596,   41069.2570566 ,  125059.08719279,\n",
       "        210728.88061494,  154858.65628517,  187255.97154171,\n",
       "        144953.46703699,  138923.35180227,   76814.84823123,\n",
       "        230319.04103998,  158331.52877723,  163934.00621722,\n",
       "        142638.45248158,  167325.11366134,   77628.52717576,\n",
       "        168358.21194182,  223285.27385302,  338658.05479989,\n",
       "        251170.04605971,  110838.40115248,   87258.62251443,\n",
       "        301613.20249031,  124444.6302416 ,  279203.67876016,\n",
       "         48743.69977319,  230642.91012094,  238044.00063965,\n",
       "         73791.20962329,  129520.04525552,  145034.17466074,\n",
       "        109824.15562451,  177385.03878504,  105405.03441676,\n",
       "        150213.86114446,  170977.96215682,  156023.27204493,\n",
       "        120253.49323117,  128662.16105111,  142668.191263  ,\n",
       "        226086.46772292,  127598.16659875,  148256.08043456,\n",
       "        171386.93973303,  129050.06883357,   96789.80631546,\n",
       "        184910.1002714 ,  192274.78233935,  115157.3392927 ,\n",
       "        167273.2955735 ,  137386.59714328,  193755.80367696,\n",
       "        111836.70867239,  147282.62276149,  156190.03419457,\n",
       "        313410.2625134 ,  109652.06099508,  153399.98199842,\n",
       "        177872.90134936,  160541.32348118,  129214.15118721,\n",
       "        311665.31429318,  215551.43473004,  119079.89142429,\n",
       "        126965.0778458 ,  134434.05778103,  136067.29198492,\n",
       "        373010.52096871,  219853.71320216,  127049.71473859,\n",
       "        139143.38678852,  115584.83275394,  374994.57570326,\n",
       "        138269.24134303,  202282.95693256,  115062.93262592,\n",
       "        184865.62250178,  217319.67415535,   79993.93187639,\n",
       "        118955.78841004,   93587.90450189,  162210.67548117,\n",
       "        107339.57516746,  139245.91019721,  392348.96122845,\n",
       "        214234.52250067,  124936.464661  ,  141139.94723084,\n",
       "         -3901.39958403,  204882.7033187 ,  271605.6885027 ,\n",
       "         26556.68831668,  174985.44034341,  203824.15023255,\n",
       "         64743.97551397,  152022.87226046,  105709.85711226,\n",
       "        133040.19905419,  116240.12276756,  184096.83416946,\n",
       "         97915.01458796,  350798.99658847,  164800.6646811 ,\n",
       "        181140.2020568 ,  194966.42746335,  128854.85071906,\n",
       "         52477.74311328,  158839.56017674,  200466.38247881,\n",
       "        110399.9026283 ,  164690.46227772,  150470.2919434 ,\n",
       "        178263.35741541,  338864.18412403,  138701.94585517,\n",
       "        245249.65320321,  251417.41110347,  158190.01497024,\n",
       "         70321.35186458,  238020.45573181,  153773.8493446 ,\n",
       "        125307.99405059,  184801.70614706,  156650.41628324,\n",
       "        108995.3380898 ,  115104.38881852,  150810.83203835,\n",
       "         28499.68528728,  145529.63750284,  208044.15687532,\n",
       "        139998.3938358 ,  260075.08013692,  215514.49700026,\n",
       "        139343.77003228,  216131.95548849,  198508.0362158 ,\n",
       "        234049.45803017,  407387.48493455,  243304.81016838,\n",
       "        215652.67471685,  169745.26625748,  199139.69285413,\n",
       "        303326.43016486,  215372.21492318,  260223.10451907,\n",
       "        236331.49489747,  138505.96938662,  131141.58216845,\n",
       "        142871.31872167,  143382.89399904,   87453.03347893,\n",
       "        154987.73067723,  120999.74442567,  324301.1069336 ,\n",
       "        207265.18007854,  183805.65325256,  231056.98210679,\n",
       "        198099.99267447,  161359.6943278 ,  208106.63938661,\n",
       "        418295.10248238,  147873.59060051,  191862.01813105,\n",
       "         76227.68760265,  113822.94817848,  264973.87473736,\n",
       "        117153.20485728,  203916.79256626,  146572.81417968,\n",
       "        243857.15899738,  357827.32763807,  123655.91468957,\n",
       "        246500.73843512,  142652.38890278,  153473.30190406,\n",
       "        135463.01044735,  124484.56539597,  332574.44965604,\n",
       "        282672.41904246,  140690.16442262,  140821.50092615,\n",
       "        113780.72255153,  311178.95245588,  228090.58713441,\n",
       "         53585.98789491,  140180.62805137,  147973.84517592,\n",
       "        113795.99770238,  291657.80769807,  317763.80800011,\n",
       "        207319.60318241,  199610.22756885,  206333.07127467,\n",
       "        213034.87595704,  274811.24238325,  139041.70553463,\n",
       "        133580.30034981,  275484.2116099 ,  190198.67633031,\n",
       "        180962.35359124,  133971.99961967,  244451.57310708,\n",
       "         76519.14522985,  240015.19737657,  195894.01493771,\n",
       "        254564.68244664,  141183.85325363,  220335.50120702,\n",
       "        187473.18423144,  149056.3976077 ,  162439.49517721,\n",
       "        146927.288649  ,  133655.92720028,  218916.69863621,\n",
       "        183851.68454313,  150696.55300464,  110799.48947088,\n",
       "        206226.0597043 ,  174054.88201573,  191327.28634617,\n",
       "        235231.55200836,  121479.29843276,  336175.92889245,\n",
       "        250817.77387891,  171663.38535865,  147921.99686273,\n",
       "        173993.43222093,  179837.54663742,  124516.7444437 ,\n",
       "        462370.96504031,   26967.15064745,  164714.25708136,\n",
       "        201444.47263305,  150176.95702219,  219974.03470622,\n",
       "        134291.82799692,  250828.93153187,  189094.21260547,\n",
       "        320706.7275128 ,  178031.25573119,  183207.55141916,\n",
       "        302222.93765416,  138902.41421804,  254743.97993456,\n",
       "        118293.43935156,  117111.00906649,  243763.92888747,\n",
       "        130226.27815892,  150465.87834648,  224416.52965594,\n",
       "        172756.99829328,  142144.34415004,  189031.19327346,\n",
       "        178560.02072929,  407762.89611765,   80105.09711427,\n",
       "        138496.57885667,  117610.35915643,  171634.36402313,\n",
       "        259970.00859049,  119409.93798285,  304241.26378956,\n",
       "        187327.35108861,  174412.57779053,  247145.66730348,\n",
       "        180044.94777656,  286658.61429721,  174424.25947044,\n",
       "        191025.73589275,  156136.05070846,  228345.78096771,\n",
       "        245932.94057423,  208773.10217359,  132527.61984494,\n",
       "         90866.80126009,  173883.38650632,   66046.85813235,\n",
       "        240033.43935923,   99543.31269217,  127399.57767669,\n",
       "        177565.12017113,  134235.81474062,  101855.08078684,\n",
       "        148569.89085841,  300644.47799723,  145831.59133595,\n",
       "        223744.79670559,  227202.73686974,  218426.0515128 ,\n",
       "        232931.52093358,   76160.08615511,  109215.39425101,\n",
       "        155302.4609403 ,  151687.93359075,   99696.0614523 ,\n",
       "        336341.67219339,  120214.42397531,  167868.93440968,\n",
       "        197774.7496215 ,  397833.24720007,  143366.41428158,\n",
       "        166964.88170725,  145109.46145612,  149140.47661228,\n",
       "        158150.54603972,  289647.39130765,  192847.27076196,\n",
       "        129560.33874164,  133943.9128231 ,  296318.07417534,\n",
       "        169223.25085841,  125372.76658572,  119904.24266815,\n",
       "        207594.84223776,  199264.38460108,  255206.36124993,\n",
       "        138192.19342474,  162591.9406292 ,  178287.30249907,\n",
       "        259593.56522344,  233458.30593847,  108358.35330871,\n",
       "        169230.9246767 ,  172429.33010197,  195819.44918424,\n",
       "        114856.3577782 ,  151584.99947132,  184199.3136831 ,\n",
       "         82815.63093569,  207639.19328149,   99857.43203222,\n",
       "        190239.32571033,  101561.40801301,  351672.03404679,\n",
       "        139146.83383477,  116475.3004103 ,  176563.5485221 ,\n",
       "        141309.85191845,  183979.31013843,  202254.78629322,\n",
       "        200587.39319786,  160459.01324574,  220501.46059537,\n",
       "        211695.88978324,  326500.31899539,  203388.30814618,\n",
       "        189395.86807691,  230395.27733356,  118764.76825776,\n",
       "        108464.89843372,  106632.68626831])"
      ]
     },
     "execution_count": 18,
     "metadata": {},
     "output_type": "execute_result"
    }
   ],
   "source": [
    "lr.predict(test_mod_5)"
   ]
  },
  {
   "cell_type": "code",
   "execution_count": 19,
   "metadata": {},
   "outputs": [],
   "source": [
    "# let's submit this to kaggle\n",
    "\n",
    "# this will go in the sale price column \n",
    "y_preds_test = lr.predict(test_mod_5)\n",
    "\n",
    "submission = pd.DataFrame(y_preds_test, columns = ['SalePrice'])\n",
    "submission['Id'] = test['id']"
   ]
  },
  {
   "cell_type": "code",
   "execution_count": 20,
   "metadata": {},
   "outputs": [
    {
     "data": {
      "text/plain": [
       "(878, 2)"
      ]
     },
     "execution_count": 20,
     "metadata": {},
     "output_type": "execute_result"
    }
   ],
   "source": [
    "submission.shape"
   ]
  },
  {
   "cell_type": "code",
   "execution_count": 21,
   "metadata": {},
   "outputs": [],
   "source": [
    "submission.to_csv('../datasets/submissions/sub_mod_5.csv', index = False)"
   ]
  },
  {
   "cell_type": "code",
   "execution_count": 27,
   "metadata": {},
   "outputs": [],
   "source": [
    "# baseline model should be the mean of y\n",
    "# look at april 2 notebook\n",
    "\n",
    "# check the scores of the model with the mean\n",
    "sub = pd.read_csv('../datasets/submissions/sub_3.csv')"
   ]
  },
  {
   "cell_type": "code",
   "execution_count": 28,
   "metadata": {},
   "outputs": [
    {
     "data": {
      "text/plain": [
       "(878, 2)"
      ]
     },
     "execution_count": 28,
     "metadata": {},
     "output_type": "execute_result"
    }
   ],
   "source": [
    "sub.shape"
   ]
  },
  {
   "cell_type": "markdown",
   "metadata": {},
   "source": [
    "# Kaggle Score"
   ]
  },
  {
   "cell_type": "markdown",
   "metadata": {},
   "source": [
    " not yet submitted"
   ]
  },
  {
   "cell_type": "code",
   "execution_count": null,
   "metadata": {},
   "outputs": [],
   "source": []
  }
 ],
 "metadata": {
  "kernelspec": {
   "display_name": "Python 3",
   "language": "python",
   "name": "python3"
  },
  "language_info": {
   "codemirror_mode": {
    "name": "ipython",
    "version": 3
   },
   "file_extension": ".py",
   "mimetype": "text/x-python",
   "name": "python",
   "nbconvert_exporter": "python",
   "pygments_lexer": "ipython3",
   "version": "3.7.4"
  }
 },
 "nbformat": 4,
 "nbformat_minor": 2
}
